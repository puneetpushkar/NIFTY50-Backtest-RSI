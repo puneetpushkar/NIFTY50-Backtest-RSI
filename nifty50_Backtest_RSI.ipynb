{
  "nbformat": 4,
  "nbformat_minor": 0,
  "metadata": {
    "colab": {
      "name": "nifty50-Backtest-RSI",
      "private_outputs": true,
      "provenance": [],
      "collapsed_sections": [],
      "authorship_tag": "ABX9TyPEgIQEZdPZYWCXbI+/HfZY",
      "include_colab_link": true
    },
    "kernelspec": {
      "name": "python3",
      "display_name": "Python 3"
    },
    "language_info": {
      "name": "python"
    }
  },
  "cells": [
    {
      "cell_type": "markdown",
      "metadata": {
        "id": "view-in-github",
        "colab_type": "text"
      },
      "source": [
        "<a href=\"https://colab.research.google.com/github/puneetpushkar/NIFTY50-Backtest-RSI/blob/main/nifty50_Backtest_RSI.ipynb\" target=\"_parent\"><img src=\"https://colab.research.google.com/assets/colab-badge.svg\" alt=\"Open In Colab\"/></a>"
      ]
    },
    {
      "cell_type": "markdown",
      "source": [
        "### Analyse {\n",
        "Buy NIFTY 50 when RSI crosses above 30 and exit above 70 }"
      ],
      "metadata": {
        "id": "1nTNMoikKBAr"
      }
    },
    {
      "cell_type": "markdown",
      "source": [
        "###Libraries Import"
      ],
      "metadata": {
        "id": "6L8mwHy5KQMY"
      }
    },
    {
      "cell_type": "code",
      "execution_count": null,
      "metadata": {
        "id": "WyhodEwKU18-"
      },
      "outputs": [],
      "source": [
        "pip install yfinance"
      ]
    },
    {
      "cell_type": "code",
      "source": [
        "!pip install talib-binary"
      ],
      "metadata": {
        "id": "uz91Q1cTb4il"
      },
      "execution_count": null,
      "outputs": []
    },
    {
      "cell_type": "code",
      "source": [
        "import pandas as pd\n",
        "import numpy as np\n",
        "import yfinance as yf\n",
        "import talib\n",
        "import copy\n",
        "import math"
      ],
      "metadata": {
        "id": "NM8sGb8EftbQ"
      },
      "execution_count": null,
      "outputs": []
    },
    {
      "cell_type": "markdown",
      "source": [
        "### Code"
      ],
      "metadata": {
        "id": "NJ7RJyl4KWQ2"
      }
    },
    {
      "cell_type": "code",
      "source": [
        "symbol= \"^NSEI\"\n",
        "df= yf.Ticker(symbol).history(period= \"10y\", interval= \"1d\")"
      ],
      "metadata": {
        "id": "oUgWK49Kz8IC"
      },
      "execution_count": null,
      "outputs": []
    },
    {
      "cell_type": "code",
      "source": [
        "df[\"RSI_14\"]= talib.RSI(df[\"Close\"], timeperiod= 14)"
      ],
      "metadata": {
        "id": "lbDzsNa7PB_D"
      },
      "execution_count": null,
      "outputs": []
    },
    {
      "cell_type": "code",
      "source": [
        "symbol_trades= []\n",
        "trade= {\"Symbol\":None, \"Buy/Sell\":None, \"Entry\":None, \"Entry Date\": None, \"Exit\": None, \"Exit Date\": None}\n",
        "position= None\n",
        "m = df.shape[0]\n",
        "    \n",
        "for i in range(14, m-1):\n",
        "  if not math.isnan(df.iloc[i][7]) and df.iloc[i][7] > 30 and df.iloc[i-1][7] <= 30 and position != \"Buy\":\n",
        "     \n",
        "     if trade[\"Symbol\"] is not None:\n",
        "       trade['Exit'] = df.iloc[i+1][3]\n",
        "       trade['Exit Date'] = df.iloc[:,[3]].index[i+1]\n",
        "       symbol_trades.append(copy.deepcopy(trade))\n",
        "\n",
        "\n",
        "     if position is not None:\n",
        "        trade[\"Symbol\"]= symbol\n",
        "        trade[\"Buy/Sell\"]= \"Buy\"\n",
        "        trade[\"Entry\"]= (df.iloc[i+1][3])\n",
        "        trade[\"Entry Date\"]= df.iloc[:,[3]].index[i+1]\n",
        "     \n",
        "     position= \"Buy\"\n",
        "\n",
        "  if not math.isnan(df.iloc[i][7]) and df.iloc[i][7] > 70 and position != \"Sell\":\n",
        "    if trade[\"Symbol\"] is not None:\n",
        "            trade['Exit']= df.iloc[i+1][3]\n",
        "            trade['Exit Date'] = df.iloc[:,[3]].index[i+1]\n",
        "            symbol_trades.append(copy.deepcopy(trade))\n",
        "        \n",
        "    if position is not None:\n",
        "            trade[\"Symbol\"]= symbol\n",
        "            trade[\"Buy/Sell\"]= \"Sell\"\n",
        "            trade[\"Exit\"]= df.iloc[i+1][3]\n",
        "            trade[\"Entry Date\"]= df.iloc[:,[3]].index[i+1]\n",
        "    \n",
        "    position= \"Sell\"\n",
        "\n",
        "Tf= pd.DataFrame(symbol_trades)\n",
        "\n",
        "Tf[\"P/L\"]= np.where(Tf[\"Buy/Sell\"] == \"Buy\", 100*(Tf[\"Exit\"]-Tf[\"Entry\"])/Tf[\"Entry\"], 100*(Tf[\"Entry\"]-Tf[\"Exit\"])/Tf[\"Entry\"])\n",
        "Tf['Return']= Tf['P/L'].cumsum()\n",
        "Tf['Drawdown']= Tf['Return'] - (Tf['Return'].cummax().apply(lambda x:x if x>0 else 0))"
      ],
      "metadata": {
        "id": "UnA0FSHD0iLf"
      },
      "execution_count": null,
      "outputs": []
    },
    {
      "cell_type": "code",
      "source": [
        "Tf= Tf[Tf[\"Buy/Sell\"] == \"Buy\"].reset_index(drop= True)"
      ],
      "metadata": {
        "id": "vn_tkt0FFwgN"
      },
      "execution_count": null,
      "outputs": []
    },
    {
      "cell_type": "code",
      "source": [
        "Tf"
      ],
      "metadata": {
        "id": "1XMbbIESe9R9"
      },
      "execution_count": null,
      "outputs": []
    },
    {
      "cell_type": "code",
      "source": [
        ""
      ],
      "metadata": {
        "id": "1yX04T7Zr85i"
      },
      "execution_count": null,
      "outputs": []
    }
  ]
}